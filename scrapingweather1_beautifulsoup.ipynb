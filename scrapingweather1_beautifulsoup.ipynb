{
  "nbformat": 4,
  "nbformat_minor": 0,
  "metadata": {
    "colab": {
      "name": "scrapingweather1_beautifulsoup.ipynb",
      "provenance": []
    },
    "kernelspec": {
      "name": "python3",
      "display_name": "Python 3"
    }
  },
  "cells": [
    {
      "cell_type": "code",
      "metadata": {
        "id": "ySGTtFqMEKm-",
        "colab_type": "code",
        "colab": {}
      },
      "source": [
        "import requests\n",
        "from bs4 import BeautifulSoup\n",
        "import pandas as pd"
      ],
      "execution_count": 0,
      "outputs": []
    },
    {
      "cell_type": "code",
      "metadata": {
        "id": "QCaqBQbmEqcU",
        "colab_type": "code",
        "outputId": "7d1b5eb6-c666-4de3-9786-74f2afcce6e0",
        "colab": {
          "base_uri": "https://localhost:8080/",
          "height": 377
        }
      },
      "source": [
        "# Scraping the national weather service for Prats hollow NY weather forecast.\n",
        "\n",
        "# we take below steps ; \n",
        "  #  Download the web page containing the forecast.\n",
        "  # Create a BeautifulSoup class to parse the page.\n",
        "  # Find the div with id seven-day-forecast, and assign to seven_day\n",
        "  # Inside seven_day, find each individual forecast item.\n",
        "  #Extract and print the first forecast item.\n",
        "\n",
        "page = requests.get(\"https://forecast.weather.gov/MapClick.php?lat=42.93708397900008&lon=-75.61070144699994#.Xa8gKugzbIU\")\n",
        "soup = BeautifulSoup(page.content, 'html.parser')\n",
        "seven_day = soup.find(id=\"seven-day-forecast\")\n",
        "forecast_items = seven_day.find_all(class_=\"tombstone-container\")\n",
        "today = forecast_items[0]\n",
        "print(today.prettify())\n"
      ],
      "execution_count": 0,
      "outputs": [
        {
          "output_type": "stream",
          "text": [
            "<div class=\"tombstone-container\">\n",
            " <p class=\"period-name\">\n",
            "  Today\n",
            "  <br/>\n",
            "  <br/>\n",
            " </p>\n",
            " <p>\n",
            "  <img alt=\"Today: Showers likely, mainly after 5pm.  Cloudy, with a high near 59. Breezy, with a south wind 17 to 21 mph, with gusts as high as 31 mph.  Chance of precipitation is 60%. New precipitation amounts of less than a tenth of an inch possible. \" class=\"forecast-icon\" src=\"newimages/medium/shra60.png\" title=\"Today: Showers likely, mainly after 5pm.  Cloudy, with a high near 59. Breezy, with a south wind 17 to 21 mph, with gusts as high as 31 mph.  Chance of precipitation is 60%. New precipitation amounts of less than a tenth of an inch possible. \"/>\n",
            " </p>\n",
            " <p class=\"short-desc\">\n",
            "  Showers\n",
            "  <br/>\n",
            "  Likely and\n",
            "  <br/>\n",
            "  Breezy\n",
            " </p>\n",
            " <p class=\"temp temp-high\">\n",
            "  High: 59 °F\n",
            " </p>\n",
            "</div>\n"
          ],
          "name": "stdout"
        }
      ]
    },
    {
      "cell_type": "code",
      "metadata": {
        "id": "L1eu5r4EGot8",
        "colab_type": "code",
        "outputId": "68624729-1e83-4565-a3f4-5e3940cb4807",
        "colab": {
          "base_uri": "https://localhost:8080/",
          "height": 68
        }
      },
      "source": [
        "# As you can see, inside the forecast item today is all the information we want. There are 4 pieces of information we can extract:\n",
        "\n",
        "#The name of the forecast item — in this case, Today.\n",
        "#The description of the conditions — this is stored in the title property of img.\n",
        "#A short description of the conditions — in this case, Sunny.\n",
        "#The temperature low — in this case, 79 degrees.\n",
        "\n",
        "#We’ll extract the name of the forecast item, the short description, and the temperature first, since they’re all similar:\n",
        "\n",
        "period = today.find(class_=\"period-name\").get_text()\n",
        "short_desc = today.find(class_=\"short-desc\").get_text()\n",
        "temp = today.find(class_=\"temp\").get_text()\n",
        "print(period)\n",
        "print(short_desc)\n",
        "print(temp)"
      ],
      "execution_count": 0,
      "outputs": [
        {
          "output_type": "stream",
          "text": [
            "Today\n",
            "ShowersLikely andBreezy\n",
            "High: 59 °F\n"
          ],
          "name": "stdout"
        }
      ]
    },
    {
      "cell_type": "code",
      "metadata": {
        "id": "8o4ONBWvHijM",
        "colab_type": "code",
        "outputId": "c5c31af5-ea57-4cd8-a230-42fa212c93d2",
        "colab": {
          "base_uri": "https://localhost:8080/",
          "height": 54
        }
      },
      "source": [
        "# Now, we can extract the title attribute from the img tag. To do this, we just treat the BeautifulSoup object like a dictionary, \n",
        "# and pass in the attribute we want as a key:\n",
        "\n",
        "img = today.find(\"img\")\n",
        "desc = img['title']\n",
        "print(desc)"
      ],
      "execution_count": 0,
      "outputs": [
        {
          "output_type": "stream",
          "text": [
            "Today: Showers likely, mainly after 5pm.  Cloudy, with a high near 59. Breezy, with a south wind 17 to 21 mph, with gusts as high as 31 mph.  Chance of precipitation is 60%. New precipitation amounts of less than a tenth of an inch possible. \n"
          ],
          "name": "stdout"
        }
      ]
    },
    {
      "cell_type": "code",
      "metadata": {
        "id": "bNB7G_SjHttO",
        "colab_type": "code",
        "outputId": "85626872-a7c4-43b2-e52d-fcb347118630",
        "colab": {
          "base_uri": "https://localhost:8080/",
          "height": 170
        }
      },
      "source": [
        "# Extracting all the information from the page\n",
        "# Select all items with the class period-name inside an item with the class tombstone-container in seven_day.\n",
        "# Use a list comprehension to call the get_text method on each BeautifulSoup object.\n",
        "period_tags = seven_day.select(\".tombstone-container .period-name\")\n",
        "periods = [pt.get_text() for pt in period_tags]\n",
        "periods"
      ],
      "execution_count": 0,
      "outputs": [
        {
          "output_type": "execute_result",
          "data": {
            "text/plain": [
              "['Today',\n",
              " 'Tonight',\n",
              " 'Wednesday',\n",
              " 'WednesdayNight',\n",
              " 'Thursday',\n",
              " 'ThursdayNight',\n",
              " 'Friday',\n",
              " 'FridayNight',\n",
              " 'Saturday']"
            ]
          },
          "metadata": {
            "tags": []
          },
          "execution_count": 7
        }
      ]
    },
    {
      "cell_type": "code",
      "metadata": {
        "id": "F0YVE55zH0Wn",
        "colab_type": "code",
        "outputId": "a17ec8d8-fe92-4286-f3ba-c3184e94c694",
        "colab": {
          "base_uri": "https://localhost:8080/",
          "height": 88
        }
      },
      "source": [
        "# As you can see above, our technique gets us each of the period names, in order. We can apply the same technique to get the other 3 fields:\n",
        "short_descs = [sd.get_text() for sd in seven_day.select(\".tombstone-container .short-desc\")]\n",
        "temps = [t.get_text() for t in seven_day.select(\".tombstone-container .temp\")]\n",
        "\n",
        "descs = [d[\"title\"] for d in seven_day.select(\".tombstone-container img\")]\n",
        "print(short_descs)\n",
        "print(temps)\n",
        "print(descs)"
      ],
      "execution_count": 0,
      "outputs": [
        {
          "output_type": "stream",
          "text": [
            "['ShowersLikely andBreezy', 'Rain', 'Slight ChanceShowers thenPartly Sunny', 'Mostly Clear', 'Mostly Sunny', 'Mostly Cloudy', 'ChanceShowers', 'ChanceShowers', 'Partly Sunny']\n",
            "['High: 59 °F', 'Low: 43 °F', 'High: 56 °F', 'Low: 39 °F', 'High: 60 °F', 'Low: 39 °F', 'High: 53 °F', 'Low: 37 °F', 'High: 50 °F']\n",
            "['Today: Showers likely, mainly after 5pm.  Cloudy, with a high near 59. Breezy, with a south wind 17 to 21 mph, with gusts as high as 31 mph.  Chance of precipitation is 60%. New precipitation amounts of less than a tenth of an inch possible. ', 'Tonight: Rain before 2am, then a chance of showers after 2am.  Low around 43. South wind 6 to 11 mph becoming southwest after midnight.  Chance of precipitation is 100%. New precipitation amounts between a half and three quarters of an inch possible. ', 'Wednesday: A slight chance of showers before 11am.  Partly sunny, with a high near 56. West wind 9 to 14 mph.  Chance of precipitation is 20%.', 'Wednesday Night: Mostly clear, with a low around 39. Southwest wind around 6 mph. ', 'Thursday: Mostly sunny, with a high near 60. Southwest wind 7 to 10 mph, with gusts as high as 21 mph. ', 'Thursday Night: Mostly cloudy, with a low around 39.', 'Friday: A chance of showers.  Cloudy, with a high near 53. Chance of precipitation is 40%.', 'Friday Night: A chance of showers.  Mostly cloudy, with a low around 37. Chance of precipitation is 50%.', 'Saturday: Partly sunny, with a high near 50.']\n"
          ],
          "name": "stdout"
        }
      ]
    },
    {
      "cell_type": "code",
      "metadata": {
        "id": "jJiNWNn6H90x",
        "colab_type": "code",
        "outputId": "e0b223dd-2186-4a5e-ee78-6467af4b1651",
        "colab": {
          "base_uri": "https://localhost:8080/",
          "height": 328
        }
      },
      "source": [
        "# combining data into a pandas data_frame\n",
        "\n",
        "weather = pd.DataFrame({\n",
        "    \"period\": periods,\n",
        "    \"short_desc\": short_descs,\n",
        "    \"temp\": temps,\n",
        "    \"desc\":descs\n",
        "})\n",
        "weather"
      ],
      "execution_count": 0,
      "outputs": [
        {
          "output_type": "execute_result",
          "data": {
            "text/html": [
              "<div>\n",
              "<style scoped>\n",
              "    .dataframe tbody tr th:only-of-type {\n",
              "        vertical-align: middle;\n",
              "    }\n",
              "\n",
              "    .dataframe tbody tr th {\n",
              "        vertical-align: top;\n",
              "    }\n",
              "\n",
              "    .dataframe thead th {\n",
              "        text-align: right;\n",
              "    }\n",
              "</style>\n",
              "<table border=\"1\" class=\"dataframe\">\n",
              "  <thead>\n",
              "    <tr style=\"text-align: right;\">\n",
              "      <th></th>\n",
              "      <th>period</th>\n",
              "      <th>short_desc</th>\n",
              "      <th>temp</th>\n",
              "      <th>desc</th>\n",
              "    </tr>\n",
              "  </thead>\n",
              "  <tbody>\n",
              "    <tr>\n",
              "      <th>0</th>\n",
              "      <td>Today</td>\n",
              "      <td>ShowersLikely andBreezy</td>\n",
              "      <td>High: 59 °F</td>\n",
              "      <td>Today: Showers likely, mainly after 5pm.  Clou...</td>\n",
              "    </tr>\n",
              "    <tr>\n",
              "      <th>1</th>\n",
              "      <td>Tonight</td>\n",
              "      <td>Rain</td>\n",
              "      <td>Low: 43 °F</td>\n",
              "      <td>Tonight: Rain before 2am, then a chance of sho...</td>\n",
              "    </tr>\n",
              "    <tr>\n",
              "      <th>2</th>\n",
              "      <td>Wednesday</td>\n",
              "      <td>Slight ChanceShowers thenPartly Sunny</td>\n",
              "      <td>High: 56 °F</td>\n",
              "      <td>Wednesday: A slight chance of showers before 1...</td>\n",
              "    </tr>\n",
              "    <tr>\n",
              "      <th>3</th>\n",
              "      <td>WednesdayNight</td>\n",
              "      <td>Mostly Clear</td>\n",
              "      <td>Low: 39 °F</td>\n",
              "      <td>Wednesday Night: Mostly clear, with a low arou...</td>\n",
              "    </tr>\n",
              "    <tr>\n",
              "      <th>4</th>\n",
              "      <td>Thursday</td>\n",
              "      <td>Mostly Sunny</td>\n",
              "      <td>High: 60 °F</td>\n",
              "      <td>Thursday: Mostly sunny, with a high near 60. S...</td>\n",
              "    </tr>\n",
              "    <tr>\n",
              "      <th>5</th>\n",
              "      <td>ThursdayNight</td>\n",
              "      <td>Mostly Cloudy</td>\n",
              "      <td>Low: 39 °F</td>\n",
              "      <td>Thursday Night: Mostly cloudy, with a low arou...</td>\n",
              "    </tr>\n",
              "    <tr>\n",
              "      <th>6</th>\n",
              "      <td>Friday</td>\n",
              "      <td>ChanceShowers</td>\n",
              "      <td>High: 53 °F</td>\n",
              "      <td>Friday: A chance of showers.  Cloudy, with a h...</td>\n",
              "    </tr>\n",
              "    <tr>\n",
              "      <th>7</th>\n",
              "      <td>FridayNight</td>\n",
              "      <td>ChanceShowers</td>\n",
              "      <td>Low: 37 °F</td>\n",
              "      <td>Friday Night: A chance of showers.  Mostly clo...</td>\n",
              "    </tr>\n",
              "    <tr>\n",
              "      <th>8</th>\n",
              "      <td>Saturday</td>\n",
              "      <td>Partly Sunny</td>\n",
              "      <td>High: 50 °F</td>\n",
              "      <td>Saturday: Partly sunny, with a high near 50.</td>\n",
              "    </tr>\n",
              "  </tbody>\n",
              "</table>\n",
              "</div>"
            ],
            "text/plain": [
              "           period  ...                                               desc\n",
              "0           Today  ...  Today: Showers likely, mainly after 5pm.  Clou...\n",
              "1         Tonight  ...  Tonight: Rain before 2am, then a chance of sho...\n",
              "2       Wednesday  ...  Wednesday: A slight chance of showers before 1...\n",
              "3  WednesdayNight  ...  Wednesday Night: Mostly clear, with a low arou...\n",
              "4        Thursday  ...  Thursday: Mostly sunny, with a high near 60. S...\n",
              "5   ThursdayNight  ...  Thursday Night: Mostly cloudy, with a low arou...\n",
              "6          Friday  ...  Friday: A chance of showers.  Cloudy, with a h...\n",
              "7     FridayNight  ...  Friday Night: A chance of showers.  Mostly clo...\n",
              "8        Saturday  ...       Saturday: Partly sunny, with a high near 50.\n",
              "\n",
              "[9 rows x 4 columns]"
            ]
          },
          "metadata": {
            "tags": []
          },
          "execution_count": 9
        }
      ]
    },
    {
      "cell_type": "code",
      "metadata": {
        "id": "i43z59TlILl0",
        "colab_type": "code",
        "outputId": "749c0c4b-43d7-4bb2-f5ab-ed8361f2e536",
        "colab": {
          "base_uri": "https://localhost:8080/",
          "height": 306
        }
      },
      "source": [
        "weather.to_csv('D:/WNT/Call to Code/weather.csv', index=False)"
      ],
      "execution_count": 0,
      "outputs": [
        {
          "output_type": "error",
          "ename": "FileNotFoundError",
          "evalue": "ignored",
          "traceback": [
            "\u001b[0;31m---------------------------------------------------------------------------\u001b[0m",
            "\u001b[0;31mFileNotFoundError\u001b[0m                         Traceback (most recent call last)",
            "\u001b[0;32m<ipython-input-11-ffc4d459286c>\u001b[0m in \u001b[0;36m<module>\u001b[0;34m()\u001b[0m\n\u001b[0;32m----> 1\u001b[0;31m \u001b[0mweather\u001b[0m\u001b[0;34m.\u001b[0m\u001b[0mto_csv\u001b[0m\u001b[0;34m(\u001b[0m\u001b[0;34m'D:/WNT/Call to Code/weather.csv'\u001b[0m\u001b[0;34m,\u001b[0m \u001b[0mindex\u001b[0m\u001b[0;34m=\u001b[0m\u001b[0;32mFalse\u001b[0m\u001b[0;34m)\u001b[0m\u001b[0;34m\u001b[0m\u001b[0;34m\u001b[0m\u001b[0m\n\u001b[0m",
            "\u001b[0;32m/usr/local/lib/python3.6/dist-packages/pandas/core/generic.py\u001b[0m in \u001b[0;36mto_csv\u001b[0;34m(self, path_or_buf, sep, na_rep, float_format, columns, header, index, index_label, mode, encoding, compression, quoting, quotechar, line_terminator, chunksize, tupleize_cols, date_format, doublequote, escapechar, decimal)\u001b[0m\n\u001b[1;32m   3018\u001b[0m                                  \u001b[0mdoublequote\u001b[0m\u001b[0;34m=\u001b[0m\u001b[0mdoublequote\u001b[0m\u001b[0;34m,\u001b[0m\u001b[0;34m\u001b[0m\u001b[0;34m\u001b[0m\u001b[0m\n\u001b[1;32m   3019\u001b[0m                                  escapechar=escapechar, decimal=decimal)\n\u001b[0;32m-> 3020\u001b[0;31m         \u001b[0mformatter\u001b[0m\u001b[0;34m.\u001b[0m\u001b[0msave\u001b[0m\u001b[0;34m(\u001b[0m\u001b[0;34m)\u001b[0m\u001b[0;34m\u001b[0m\u001b[0;34m\u001b[0m\u001b[0m\n\u001b[0m\u001b[1;32m   3021\u001b[0m \u001b[0;34m\u001b[0m\u001b[0m\n\u001b[1;32m   3022\u001b[0m         \u001b[0;32mif\u001b[0m \u001b[0mpath_or_buf\u001b[0m \u001b[0;32mis\u001b[0m \u001b[0;32mNone\u001b[0m\u001b[0;34m:\u001b[0m\u001b[0;34m\u001b[0m\u001b[0;34m\u001b[0m\u001b[0m\n",
            "\u001b[0;32m/usr/local/lib/python3.6/dist-packages/pandas/io/formats/csvs.py\u001b[0m in \u001b[0;36msave\u001b[0;34m(self)\u001b[0m\n\u001b[1;32m    155\u001b[0m             f, handles = _get_handle(self.path_or_buf, self.mode,\n\u001b[1;32m    156\u001b[0m                                      \u001b[0mencoding\u001b[0m\u001b[0;34m=\u001b[0m\u001b[0mself\u001b[0m\u001b[0;34m.\u001b[0m\u001b[0mencoding\u001b[0m\u001b[0;34m,\u001b[0m\u001b[0;34m\u001b[0m\u001b[0;34m\u001b[0m\u001b[0m\n\u001b[0;32m--> 157\u001b[0;31m                                      compression=self.compression)\n\u001b[0m\u001b[1;32m    158\u001b[0m             \u001b[0mclose\u001b[0m \u001b[0;34m=\u001b[0m \u001b[0;32mTrue\u001b[0m\u001b[0;34m\u001b[0m\u001b[0;34m\u001b[0m\u001b[0m\n\u001b[1;32m    159\u001b[0m \u001b[0;34m\u001b[0m\u001b[0m\n",
            "\u001b[0;32m/usr/local/lib/python3.6/dist-packages/pandas/io/common.py\u001b[0m in \u001b[0;36m_get_handle\u001b[0;34m(path_or_buf, mode, encoding, compression, memory_map, is_text)\u001b[0m\n\u001b[1;32m    422\u001b[0m         \u001b[0;32melif\u001b[0m \u001b[0mencoding\u001b[0m\u001b[0;34m:\u001b[0m\u001b[0;34m\u001b[0m\u001b[0;34m\u001b[0m\u001b[0m\n\u001b[1;32m    423\u001b[0m             \u001b[0;31m# Python 3 and encoding\u001b[0m\u001b[0;34m\u001b[0m\u001b[0;34m\u001b[0m\u001b[0;34m\u001b[0m\u001b[0m\n\u001b[0;32m--> 424\u001b[0;31m             \u001b[0mf\u001b[0m \u001b[0;34m=\u001b[0m \u001b[0mopen\u001b[0m\u001b[0;34m(\u001b[0m\u001b[0mpath_or_buf\u001b[0m\u001b[0;34m,\u001b[0m \u001b[0mmode\u001b[0m\u001b[0;34m,\u001b[0m \u001b[0mencoding\u001b[0m\u001b[0;34m=\u001b[0m\u001b[0mencoding\u001b[0m\u001b[0;34m,\u001b[0m \u001b[0mnewline\u001b[0m\u001b[0;34m=\u001b[0m\u001b[0;34m\"\"\u001b[0m\u001b[0;34m)\u001b[0m\u001b[0;34m\u001b[0m\u001b[0;34m\u001b[0m\u001b[0m\n\u001b[0m\u001b[1;32m    425\u001b[0m         \u001b[0;32melif\u001b[0m \u001b[0mis_text\u001b[0m\u001b[0;34m:\u001b[0m\u001b[0;34m\u001b[0m\u001b[0;34m\u001b[0m\u001b[0m\n\u001b[1;32m    426\u001b[0m             \u001b[0;31m# Python 3 and no explicit encoding\u001b[0m\u001b[0;34m\u001b[0m\u001b[0;34m\u001b[0m\u001b[0;34m\u001b[0m\u001b[0m\n",
            "\u001b[0;31mFileNotFoundError\u001b[0m: [Errno 2] No such file or directory: 'D:/WNT/Call to Code/weather.csv'"
          ]
        }
      ]
    },
    {
      "cell_type": "code",
      "metadata": {
        "id": "VNNfuK-8JN5f",
        "colab_type": "code",
        "colab": {}
      },
      "source": [
        ""
      ],
      "execution_count": 0,
      "outputs": []
    }
  ]
}